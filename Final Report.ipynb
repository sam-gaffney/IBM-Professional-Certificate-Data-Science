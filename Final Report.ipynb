{
    "cells": [
        {
            "cell_type": "markdown",
            "metadata": {
                "collapsed": true
            },
            "source": "<h1>Introduction</h1>"
        },
        {
            "cell_type": "markdown",
            "metadata": {},
            "source": "It's thought that the nature of neighbourhoods has an impact on the quality of life of the inhabitants of the neighbourhood. In particular, this is certainly true of greenspaces and parks. Town Planners at local authorities should be interested in whetehr granting planning permission to open new venues will impact the wellbeing of those who live there. In this project, we will develop a model that can predict a wellbeing score for a neighbourhood based on the venues and attractions that are located there. It's envisaged that this model would then be used in supplement decisions about where to site new parks and restaurants etc. London has an extensive dataset for wellbeing and Foursquare has a dataset of venues and both these dataset will be used in the project. The model will trained and tested on the London dataset and then applied to data, provided by Foursquare, for New York to "
        },
        {
            "cell_type": "markdown",
            "metadata": {},
            "source": "<h1>Data</h1>"
        },
        {
            "cell_type": "markdown",
            "metadata": {},
            "source": "The project uses data taken from the Greater London Authority about wellbeing in the boroughs of London. Each ward in London has an assigned aggregate wellbeing score. \nThis is a number between 20 and -20 that is the weighted average of a number of indicators. These are: life expectancy, childhood obesity, incapacity benefits, unemployment rate, \ncrime rate, deliberate fires, GCSE point scores, unathorised pupil abscence, children in out of work households, public transport accessibility scores, access to open space and nature and, finally, \nsubjective well being score. This data is a time series, we have data from 2009 to 2013. The data is held in an excel spreadsheet that needs to be processed directly or converted into CSV files. \nThis will be combined with another dataset from the Greater London Authority in order to obtain geometries for the ward areas. \n\nTo obtain information about new venues and attractions in a ward, we use the Foursquare API. This API is accessed over the web and allows a user to use a coordinate and a radius to find a range of venues. \nEach venue has a castegory and this is the important as we intend to group all the venues by this category when we perform the analysis about the influence of venue/attraction on wellbeing. "
        },
        {
            "cell_type": "code",
            "execution_count": null,
            "metadata": {},
            "outputs": [],
            "source": ""
        }
    ],
    "metadata": {
        "kernelspec": {
            "display_name": "Python 3.7",
            "language": "python",
            "name": "python3"
        },
        "language_info": {
            "codemirror_mode": {
                "name": "ipython",
                "version": 3
            },
            "file_extension": ".py",
            "mimetype": "text/x-python",
            "name": "python",
            "nbconvert_exporter": "python",
            "pygments_lexer": "ipython3",
            "version": "3.7.10"
        }
    },
    "nbformat": 4,
    "nbformat_minor": 1
}